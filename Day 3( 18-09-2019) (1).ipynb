{
 "cells": [
  {
   "cell_type": "markdown",
   "metadata": {},
   "source": [
    "### Program in python with strings\n",
    "- Strings\n",
    "- string slicing\n",
    "- fundamental programs and Examples with strings"
   ]
  },
  {
   "cell_type": "code",
   "execution_count": 1,
   "metadata": {},
   "outputs": [
    {
     "name": "stdout",
     "output_type": "stream",
     "text": [
      "Python\n",
      "programming\n",
      "A\n",
      "<class 'str'>\n",
      "<class 'str'>\n",
      "<class 'str'>\n"
     ]
    }
   ],
   "source": [
    "s1 ='Python'\n",
    "s2 = \"programming\"\n",
    "s3 = 'A'\n",
    "print (s1)\n",
    "print (s2)\n",
    "print (s3)\n",
    "print (type(s1))\n",
    "print(type(s2))\n",
    "print(type(s3))\n"
   ]
  },
  {
   "cell_type": "markdown",
   "metadata": {},
   "source": [
    "### String slicing"
   ]
  },
  {
   "cell_type": "code",
   "execution_count": 8,
   "metadata": {},
   "outputs": [
    {
     "name": "stdout",
     "output_type": "stream",
     "text": [
      "P\n",
      "y\n",
      "6\n",
      "n\n",
      "n\n",
      "o\n"
     ]
    }
   ],
   "source": [
    "s1 =\"Python\"\n",
    "print(s1[0]) # Accessing the first character in a string\n",
    "print(s1[1]) # Accessing the second character in a string\n",
    "print(len(s1)) # Length of a string\n",
    "print(s1[len(s1)-1]) # Access the last character of the string\n",
    "print (s1[-1]) # Another way to access the last character\n",
    "print(s1[-2])"
   ]
  },
  {
   "cell_type": "code",
   "execution_count": 11,
   "metadata": {},
   "outputs": [
    {
     "name": "stdout",
     "output_type": "stream",
     "text": [
      "Py\n",
      "on\n",
      "hon\n",
      "tho\n",
      "ytho\n"
     ]
    }
   ],
   "source": [
    "print(s1[0:2]) # Access the first two characters\n",
    "print(s1[-2:]) # Access the last two characters\n",
    "print(s1[3:]) # Acces the character from 3 till last\n",
    "print(s1[2:5]) # Access the character from 2 to 5\n",
    "print(s1[1:-1]) # All the characters except 1st and last character"
   ]
  },
  {
   "cell_type": "code",
   "execution_count": 13,
   "metadata": {},
   "outputs": [
    {
     "data": {
      "text/plain": [
       "'nohtyP'"
      ]
     },
     "execution_count": 13,
     "metadata": {},
     "output_type": "execute_result"
    }
   ],
   "source": [
    "s1[-1::-1] # Reverse the string"
   ]
  },
  {
   "cell_type": "code",
   "execution_count": 18,
   "metadata": {},
   "outputs": [
    {
     "data": {
      "text/plain": [
       "'Pto'"
      ]
     },
     "execution_count": 18,
     "metadata": {},
     "output_type": "execute_result"
    }
   ],
   "source": [
    "# Access the characters in string alternate\n",
    "# python -- pto\n",
    "s1[::2]"
   ]
  },
  {
   "cell_type": "code",
   "execution_count": 16,
   "metadata": {},
   "outputs": [
    {
     "data": {
      "text/plain": [
       "'nhy'"
      ]
     },
     "execution_count": 16,
     "metadata": {},
     "output_type": "execute_result"
    }
   ],
   "source": [
    "# Access the characters in string alternate\n",
    "# python -- nhy\n",
    "s1[::-2]"
   ]
  },
  {
   "cell_type": "code",
   "execution_count": 19,
   "metadata": {},
   "outputs": [
    {
     "data": {
      "text/plain": [
       "'Ph'"
      ]
     },
     "execution_count": 19,
     "metadata": {},
     "output_type": "execute_result"
    }
   ],
   "source": [
    "s1[::3]"
   ]
  },
  {
   "cell_type": "markdown",
   "metadata": {},
   "source": [
    "### Functions with string operations"
   ]
  },
  {
   "cell_type": "code",
   "execution_count": 20,
   "metadata": {},
   "outputs": [
    {
     "data": {
      "text/plain": [
       "'nohtyp'"
      ]
     },
     "execution_count": 20,
     "metadata": {},
     "output_type": "execute_result"
    }
   ],
   "source": [
    "# Reverse a string\n",
    "def reverseStr(s):\n",
    "    return s[-1::-1]\n",
    "reverseStr('python')"
   ]
  },
  {
   "cell_type": "code",
   "execution_count": 21,
   "metadata": {},
   "outputs": [
    {
     "name": "stdout",
     "output_type": "stream",
     "text": [
      "False\n",
      "True\n"
     ]
    }
   ],
   "source": [
    "# To check the given string is palindrome or not\n",
    "def ispalindrome(s):\n",
    "    if s == s[-1::-1]:\n",
    "        return True\n",
    "    return False\n",
    "print(ispalindrome('python'))\n",
    "print(ispalindrome('ganag'))"
   ]
  },
  {
   "cell_type": "code",
   "execution_count": 39,
   "metadata": {},
   "outputs": [
    {
     "name": "stdout",
     "output_type": "stream",
     "text": [
      "P T "
     ]
    }
   ],
   "source": [
    "# Function to print the upper case characters\n",
    "# Example : python --P T\n",
    "\n",
    "# ASCII\n",
    "# A - Z :65 - 90\n",
    "# a - z :97 - 122\n",
    "# 0 - 9 :48 - 57\n",
    "# space :32\n",
    "\n",
    "\n",
    "def printUpper(s):\n",
    "    for i in range (len(s)):\n",
    "        if ord(s[i]) >= 65 and ord(s[i]) <=90:\n",
    "            print(s[i],end=' ')\n",
    "    return\n",
    "printUpper('PyThon') "
   ]
  },
  {
   "cell_type": "code",
   "execution_count": 38,
   "metadata": {},
   "outputs": [
    {
     "data": {
      "text/plain": [
       "65"
      ]
     },
     "execution_count": 38,
     "metadata": {},
     "output_type": "execute_result"
    }
   ],
   "source": [
    "ord('A') # ord() function gives the output as number which is equal to ASCII number"
   ]
  },
  {
   "cell_type": "code",
   "execution_count": 42,
   "metadata": {},
   "outputs": [
    {
     "data": {
      "text/plain": [
       "'samecount'"
      ]
     },
     "execution_count": 42,
     "metadata": {},
     "output_type": "execute_result"
    }
   ],
   "source": [
    "# Function to return the output as \"samecount\" or \"programming\"\n",
    "# samecount -- Lower and Upper chars have same count\n",
    "# programming -- count of Lower and upper case is not same\n",
    "\n",
    "# Example #1 : PyThOn -- 3 P T O\n",
    "#                     -- 3 Y H N\n",
    "\n",
    "# Example #2 : PyThoN -- 2 P N\n",
    "#                     -- 4 y t h o\n",
    "#output  : programming\n",
    "\n",
    "\n",
    "def findCharCount(s):\n",
    "    cntUpper = 0\n",
    "    cntLower = 0\n",
    "    for i in range (len(s)):\n",
    "        if ord(s[i]) >= 65 and ord(s[i]) <= 90:\n",
    "            cntUpper += 1\n",
    "        elif ord (s[i]) >= 97 and ord(s[i]) <= 122:\n",
    "            cntLower += 1\n",
    "    if cntLower == cntUpper:\n",
    "        return \"samecount\"\n",
    "    return \"programming\"\n",
    "findCharCount('PyThoN')\n",
    "    \n"
   ]
  },
  {
   "cell_type": "code",
   "execution_count": 44,
   "metadata": {},
   "outputs": [
    {
     "name": "stdout",
     "output_type": "stream",
     "text": [
      "1 8 8 9 "
     ]
    }
   ],
   "source": [
    " #  Function to extract the digit from the string\n",
    "# example #1 :\n",
    "# Input :Appli18cation89\n",
    "# output : 1 8 8 9\n",
    "\n",
    "def extractDigits(s):\n",
    "    for i in range (len(s)):\n",
    "        if ord(s[i]) >= 48 and ord(s[i]) <= 57:\n",
    "            print(s[i],end=' ')\n",
    "    return\n",
    "extractDigits('Appli18cation89')\n",
    "\n"
   ]
  },
  {
   "cell_type": "code",
   "execution_count": 57,
   "metadata": {},
   "outputs": [
    {
     "data": {
      "text/plain": [
       "26"
      ]
     },
     "execution_count": 57,
     "metadata": {},
     "output_type": "execute_result"
    }
   ],
   "source": [
    " # Function to add the digit of the string\n",
    "# example #1 :\n",
    "# Input :Appli18cation89\n",
    "# output : 26 (1+8+8+9)\n",
    "\n",
    "\n",
    "\n",
    "def sumOfDigits(s):\n",
    "    sum = 0\n",
    "    for i in range (len(s)):\n",
    "            if ord(s[i]) >= 48 and ord(s[i]) <= 57:\n",
    "                sum = sum + (ord(s[i])-48)\n",
    "    return sum\n",
    "sumOfDigits('Appli18cation89')\n",
    "    "
   ]
  },
  {
   "cell_type": "code",
   "execution_count": 58,
   "metadata": {},
   "outputs": [
    {
     "name": "stdout",
     "output_type": "stream",
     "text": [
      "MADE"
     ]
    }
   ],
   "source": [
    "# Function to 2nd word in upper case\n",
    "# Example #1:\n",
    "# Input : Python Made Easy\n",
    "# Output : MADE\n",
    "\n",
    "# Example #2 :\n",
    "# Input : Learn Python Strings\n",
    "# Output :PYTHON\n",
    "\n",
    "def wordUpperCase(s):\n",
    "    cntSpace = 0\n",
    "    for i in range (len(s)):\n",
    "        if ord(s[i]) == 32:\n",
    "            cntSpace += 1\n",
    "        if cntSpace == 1:\n",
    "            if ord(s[i]) >= 65 and ord (s[i]) <= 90:\n",
    "                print(s[i],end='')\n",
    "            elif ord(s[i]) >= 97 and ord(s[i]) <= 122:\n",
    "                print(chr(ord(s[i])-32),end ='')\n",
    "        if cntSpace == 2:\n",
    "            break\n",
    "    return\n",
    "wordUpperCase('Python Made Easy')"
   ]
  },
  {
   "cell_type": "markdown",
   "metadata": {},
   "source": [
    "### LISTS\n",
    "- one of the data structure in python\n",
    "- Data structure means to store,sort and search options\n",
    "- It's one common Data structure in python,the items of LIST     Seperated encloused in square brackets[]\n",
    "  - Example\n",
    "    - list1 = [1,2,3,4,5}\n",
    "    - list2 = [\"GITAM\",1,2,1.33,\"Vizag\"}"
   ]
  },
  {
   "cell_type": "code",
   "execution_count": 62,
   "metadata": {},
   "outputs": [
    {
     "name": "stdout",
     "output_type": "stream",
     "text": [
      "[1, 2, 45, 24, 9]\n",
      "1\n",
      "2\n",
      "9\n",
      "24\n",
      "[45, 24, 9]\n",
      "[1, 2]\n"
     ]
    }
   ],
   "source": [
    "li = [1,2,45,24,9]\n",
    "print(li) # Will print all the list items\n",
    "print(li[0]) #Access the first item of the list\n",
    "print(li[1]) #Access the second item of the list\n",
    "print(li[-1]) #Access the last item of the list\n",
    "print(li[-2]) #Access the last second item of the list\n",
    "print(li[2:])\n",
    "print(li[:2])"
   ]
  },
  {
   "cell_type": "code",
   "execution_count": 70,
   "metadata": {},
   "outputs": [
    {
     "name": "stdout",
     "output_type": "stream",
     "text": [
      "['GITAM', 12, 2019, 2020, 'Vizag']\n",
      "['GITAM', 12345, 2019, 2020, 'Vizag']\n"
     ]
    }
   ],
   "source": [
    "li = [\"GITAM\",12,2019,2020,\"Vizag\"]\n",
    "print(li)\n",
    "# Update the list items with value using index\n",
    "li[1] = 12345\n",
    "print(li)"
   ]
  },
  {
   "cell_type": "code",
   "execution_count": 71,
   "metadata": {},
   "outputs": [
    {
     "name": "stdout",
     "output_type": "stream",
     "text": [
      "['GITAM', 12345, 2019, 'Vizag']\n"
     ]
    }
   ],
   "source": [
    "# Delete the list items from the list\n",
    "del li[3]\n",
    "print(li)"
   ]
  },
  {
   "cell_type": "code",
   "execution_count": 77,
   "metadata": {},
   "outputs": [
    {
     "name": "stdout",
     "output_type": "stream",
     "text": [
      "5\n",
      "[1, 2, 3, 4, 5, 1, 2, 3, 4, 5]\n",
      "True\n",
      "False\n",
      "1 2 3 4 5 \n",
      "1 2 3 4 5 "
     ]
    }
   ],
   "source": [
    "# Basic list Operations\n",
    "li = [1,2,3,4,5]\n",
    "\n",
    "# Length of list\n",
    "print(len(li))\n",
    "\n",
    "# List Repitation\n",
    "print(li * 2)\n",
    "\n",
    "# To know certain item is present in the list or not\n",
    "print( 4 in li)\n",
    "print(7 in li)\n",
    "\n",
    "# Access the list item from the Iterations\n",
    "# 1 way to define\n",
    "for i in range(len(li)):\n",
    "    print(li[i],end=' ')\n",
    "print()\n",
    "\n",
    "# 2 way to print the list items\n",
    "for i in li:\n",
    "    print(i,end=' ')\n"
   ]
  },
  {
   "cell_type": "code",
   "execution_count": 78,
   "metadata": {},
   "outputs": [
    {
     "name": "stdout",
     "output_type": "stream",
     "text": [
      "67\n",
      "1\n",
      "123\n",
      "24\n"
     ]
    }
   ],
   "source": [
    "# Basic list functions\n",
    "\n",
    "li = [1,4,7,44,67]\n",
    "print(max(li)) # Max number of the list\n",
    "print(min(li)) # Min number of the list\n",
    "print(sum(li)) # sum of all list items\n",
    "print(sum(li) // len(li)) # Avg of list items"
   ]
  },
  {
   "cell_type": "code",
   "execution_count": 3,
   "metadata": {},
   "outputs": [
    {
     "name": "stdout",
     "output_type": "stream",
     "text": [
      "45\n",
      "22\n"
     ]
    }
   ],
   "source": [
    "# function to return the large number from the list\n",
    "def largeNumber(li):\n",
    "    li.sort()\n",
    "    return li[-1]\n",
    "def genericLarge(li,n):\n",
    "    li.sort()\n",
    "    return li[-n]\n",
    "li = [19,1,25,6,9,45,22]\n",
    "print(largeNumber(li))\n",
    "print(genericLarge(li,3))"
   ]
  },
  {
   "cell_type": "code",
   "execution_count": 5,
   "metadata": {},
   "outputs": [
    {
     "name": "stdout",
     "output_type": "stream",
     "text": [
      "1\n",
      "19\n"
     ]
    }
   ],
   "source": [
    "# Function to findleast and Generic Least Number from the list\n",
    "def leastNumber(li):\n",
    "    li.sort()\n",
    "    return li[0]\n",
    "def genericLeastNumber(li,n):\n",
    "    li.sort()\n",
    "    return li[n-1]\n",
    "li = [19,1,25,6,9,45,22]\n",
    "print(leastNumber(li))\n",
    "print(genericLeastNumber(li,4))\n"
   ]
  },
  {
   "cell_type": "code",
   "execution_count": 1,
   "metadata": {},
   "outputs": [
    {
     "data": {
      "text/plain": [
       "'C:\\\\Users\\\\Asus\\\\Desktop\\\\problem solving & prorgamming'"
      ]
     },
     "execution_count": 1,
     "metadata": {},
     "output_type": "execute_result"
    }
   ],
   "source": [
    "pwd\n"
   ]
  },
  {
   "cell_type": "code",
   "execution_count": 5,
   "metadata": {},
   "outputs": [
    {
     "name": "stdout",
     "output_type": "stream",
     "text": [
      "file is successfully created and data has inserted\n"
     ]
    }
   ],
   "source": [
    "#function to create file and write same data to the file\n",
    "#mode -- If( create file and write same data )\n",
    "#if the file already exixts with the same name we will rewrite the data \n",
    "\n",
    "\n",
    "\n",
    "def createfile(filename):\n",
    "    f=open(filename,'w')\n",
    "    for i in range(10):\n",
    "        f.write('this is %d line \\n'% i)\n",
    "    print('file is successfully created and data has inserted')\n",
    "    return\n",
    "createfile('data.txt')"
   ]
  },
  {
   "cell_type": "code",
   "execution_count": 6,
   "metadata": {},
   "outputs": [
    {
     "data": {
      "text/plain": [
       "'C:\\\\Users\\\\Asus\\\\Desktop\\\\problem solving & prorgamming'"
      ]
     },
     "execution_count": 6,
     "metadata": {},
     "output_type": "execute_result"
    }
   ],
   "source": [
    "pwd"
   ]
  },
  {
   "cell_type": "code",
   "execution_count": null,
   "metadata": {},
   "outputs": [],
   "source": [
    "def createfile(filename):\n",
    "    f=open(filename,'w')\n",
    "    for i in range(10):\n",
    "        f.write('this is %d line \\n'% i)\n",
    "    print('file is successfully created and data has inserted')\n",
    "    return\n",
    "createfile('data.txt')"
   ]
  },
  {
   "cell_type": "code",
   "execution_count": 9,
   "metadata": {},
   "outputs": [
    {
     "name": "stdout",
     "output_type": "stream",
     "text": [
      "completed\n"
     ]
    }
   ],
   "source": [
    "#function to create file and write same data to the file\n",
    "#mode -- If( create file and write same data )\n",
    "#if the file already exixts with the same name \n",
    "# --- append the data at end of the previous line\n",
    "\n",
    "def appendMode(filename):\n",
    "    f=open(filename,'a')\n",
    "    f.write ('gitam vizag\\n')\n",
    "    \n",
    "    f.write('python programming\\n')\n",
    "    print('completed')\n",
    "    return\n",
    "appendMode('data.txt')"
   ]
  },
  {
   "cell_type": "code",
   "execution_count": 10,
   "metadata": {},
   "outputs": [
    {
     "name": "stdout",
     "output_type": "stream",
     "text": [
      "this is 0 line \n",
      "this is 1 line \n",
      "this is 2 line \n",
      "this is 3 line \n",
      "this is 4 line \n",
      "this is 5 line \n",
      "this is 6 line \n",
      "this is 7 line \n",
      "this is 8 line \n",
      "this is 9 line \n",
      "gitam vizag\n",
      "python programming\n",
      "\n"
     ]
    }
   ],
   "source": [
    "# function to read the file \n",
    "\n",
    "\n",
    "def readfiledata(filename):\n",
    "    f=open(filename,'r')\n",
    "    if f.mode == 'r':\n",
    "        a =f.read()\n",
    "        print(a)\n",
    "    f.close()\n",
    "    return\n",
    "readfiledata('data.txt')"
   ]
  },
  {
   "cell_type": "code",
   "execution_count": 17,
   "metadata": {},
   "outputs": [
    {
     "name": "stdout",
     "output_type": "stream",
     "text": [
      "['py', 'th', 'on', 'pro', 'gr', 'am', 'mi', 'ng']\n"
     ]
    }
   ],
   "source": [
    "# Analysis on the file -- word count,char count,digit count\n",
    "s1=\"py th on pro gr am mi ng \"\n",
    "print(s1.split())"
   ]
  },
  {
   "cell_type": "code",
   "execution_count": 32,
   "metadata": {},
   "outputs": [
    {
     "data": {
      "text/plain": [
       "44"
      ]
     },
     "execution_count": 32,
     "metadata": {},
     "output_type": "execute_result"
    }
   ],
   "source": [
    "# word count -- input file\n",
    "\n",
    "\n",
    "def wordcount(filename):\n",
    "    with open(filename,'r')as f:\n",
    "        if f.mode =='r':\n",
    "            a = f.read()\n",
    "        li = a.split()\n",
    "    return len(li)\n",
    "wordcount('data.txt')"
   ]
  },
  {
   "cell_type": "code",
   "execution_count": 23,
   "metadata": {},
   "outputs": [
    {
     "data": {
      "text/plain": [
       "10"
      ]
     },
     "execution_count": 23,
     "metadata": {},
     "output_type": "execute_result"
    }
   ],
   "source": [
    "# specific word count from the file\n",
    "# example #1\n",
    "# input -- this\n",
    "# output --- 10\n",
    "\n",
    "# example #2\n",
    "# input --gitam\n",
    "# out ---1\n",
    "\n",
    "\n",
    "def specificwordcnt(filename,word):\n",
    "    with open(filename,'r')as f:\n",
    "        if f.mode =='r':\n",
    "            a = f.read()\n",
    "            li = a.split()\n",
    "    return li.count(word)\n",
    "specificwordcnt('data.txt','this')\n",
    "\n"
   ]
  },
  {
   "cell_type": "code",
   "execution_count": 27,
   "metadata": {},
   "outputs": [
    {
     "data": {
      "text/plain": [
       "1"
      ]
     },
     "execution_count": 27,
     "metadata": {},
     "output_type": "execute_result"
    }
   ],
   "source": [
    "def wordcount(filename,word):\n",
    "    with open(filename,'r')as f:\n",
    "        if f.mode =='r':\n",
    "            a = f.read()\n",
    "        li = a.split()\n",
    "    return (li.count(word))\n",
    "wordcount('data.txt','gitam')"
   ]
  },
  {
   "cell_type": "code",
   "execution_count": 30,
   "metadata": {},
   "outputs": [
    {
     "data": {
      "text/plain": [
       "191"
      ]
     },
     "execution_count": 30,
     "metadata": {},
     "output_type": "execute_result"
    }
   ],
   "source": [
    "# function to find the character count from the input file\n",
    "\n",
    "\n",
    "def charcount(filename):\n",
    "    with open(filename,'r')as f:\n",
    "        if f.mode =='r':\n",
    "            a = f.read()\n",
    "            li = list(a)\n",
    "    return len(li)\n",
    "charcount('data.txt')"
   ]
  },
  {
   "cell_type": "code",
   "execution_count": 33,
   "metadata": {},
   "outputs": [
    {
     "data": {
      "text/plain": [
       "13"
      ]
     },
     "execution_count": 33,
     "metadata": {},
     "output_type": "execute_result"
    }
   ],
   "source": [
    "# find no of lines or rows in the given input stream\n",
    "\n",
    "\n",
    "def findlinecount(filename):\n",
    "    with open(filename,'r')as f:\n",
    "        if f.mode =='r':\n",
    "            a = f.read()\n",
    "        li = a.split('\\n')\n",
    "    return len(li)\n",
    "findlinecount('data.txt')"
   ]
  },
  {
   "cell_type": "code",
   "execution_count": 44,
   "metadata": {},
   "outputs": [
    {
     "data": {
      "text/plain": [
       "(44, 13, 191)"
      ]
     },
     "execution_count": 44,
     "metadata": {},
     "output_type": "execute_result"
    }
   ],
   "source": [
    "# ALL THREE PROGRAMS IN ONE CODE\n",
    "\n",
    "def wordcount(filename,word):\n",
    "    with open(filename,'r')as f:\n",
    "        if f.mode =='r':\n",
    "            a = f.read()\n",
    "        words = a.split()\n",
    "        char = list(a)\n",
    "        lines = a.split('\\n')\n",
    "    return len(words),len(lines),len(char)\n",
    "    \n",
    "wordcount('data.txt','this')"
   ]
  },
  {
   "cell_type": "code",
   "execution_count": null,
   "metadata": {},
   "outputs": [],
   "source": [
    "# Function to find the uppercase  and lowercase characters\n",
    "# from the input stream\n",
    "\n",
    "\n",
    "def casecount(filename):\n",
    "    cntupper=0\n",
    "    cntlower=0\n",
    "    cntdigit=0\n",
    "    with open(filename,'r')as f:\n",
    "        if f.mode =='r':\n",
    "            a = f.read()\n",
    "        li = list(a)\n",
    "    for i in range(len(li)):\n",
    "        if ord(li[i]) >=65 and ord(li[i]) <=90:\n",
    "            cntupper +=1\n",
    "        elif ord(li[i]) >= and ord(li[i]) <=122:\n",
    "    return len(li)\n",
    "findlinecount('data.txt')"
   ]
  }
 ],
 "metadata": {
  "kernelspec": {
   "display_name": "Python 3",
   "language": "python",
   "name": "python3"
  },
  "language_info": {
   "codemirror_mode": {
    "name": "ipython",
    "version": 3
   },
   "file_extension": ".py",
   "mimetype": "text/x-python",
   "name": "python",
   "nbconvert_exporter": "python",
   "pygments_lexer": "ipython3",
   "version": "3.7.3"
  }
 },
 "nbformat": 4,
 "nbformat_minor": 2
}
