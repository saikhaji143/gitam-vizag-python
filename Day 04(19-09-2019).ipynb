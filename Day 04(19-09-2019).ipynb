{
 "cells": [
  {
   "cell_type": "markdown",
   "metadata": {},
   "source": [
    "### String Functions\n",
    "- upper() -- Will convert the input string into upper case\n",
    "- Lower() --Will converts the input string into lower case"
   ]
  },
  {
   "cell_type": "code",
   "execution_count": 1,
   "metadata": {},
   "outputs": [
    {
     "name": "stdout",
     "output_type": "stream",
     "text": [
      "PYTHON\n",
      "python\n"
     ]
    }
   ],
   "source": [
    "s1 = 'Python'\n",
    "print(s1.upper())\n",
    "print(s1.lower())"
   ]
  },
  {
   "cell_type": "markdown",
   "metadata": {},
   "source": [
    "### String Boolean Function\n",
    "- True or False\n",
    "- islower() -- True if the string have all characters lower case\n",
    "- isupper(0 -- True if the string have all characters upper case\n",
    "- istitle() -- True if the string in title case\n",
    "- isnumeric() -- True if the string numeric\n",
    "- isalpha() -- True if the string only alphabets\n",
    "- isspace() -- True if the string is space"
   ]
  },
  {
   "cell_type": "code",
   "execution_count": 4,
   "metadata": {},
   "outputs": [
    {
     "name": "stdout",
     "output_type": "stream",
     "text": [
      "False\n",
      "True\n"
     ]
    }
   ],
   "source": [
    "s1 = \"PYTHON\"\n",
    "print(s1.islower())\n",
    "print(s1.isupper())"
   ]
  },
  {
   "cell_type": "code",
   "execution_count": 5,
   "metadata": {},
   "outputs": [
    {
     "name": "stdout",
     "output_type": "stream",
     "text": [
      "False\n"
     ]
    }
   ],
   "source": [
    "s1 = \"python programming\"\n",
    "print(s1.istitle())"
   ]
  },
  {
   "cell_type": "code",
   "execution_count": 6,
   "metadata": {},
   "outputs": [
    {
     "name": "stdout",
     "output_type": "stream",
     "text": [
      "True\n",
      "False\n"
     ]
    }
   ],
   "source": [
    "s1 =\"123456\"\n",
    "s2 = \"py123\"\n",
    "print(s1.isnumeric())\n",
    "print(s2.isnumeric())"
   ]
  },
  {
   "cell_type": "code",
   "execution_count": 9,
   "metadata": {},
   "outputs": [
    {
     "name": "stdout",
     "output_type": "stream",
     "text": [
      "False\n",
      "True\n"
     ]
    }
   ],
   "source": [
    "s1 =\"py123456\"\n",
    "s2 = \"python\"\n",
    "print(s1.isalpha())\n",
    "print(s2.isalpha())"
   ]
  },
  {
   "cell_type": "code",
   "execution_count": 11,
   "metadata": {},
   "outputs": [
    {
     "name": "stdout",
     "output_type": "stream",
     "text": [
      "True\n",
      "False\n"
     ]
    }
   ],
   "source": [
    "s1 = ' '\n",
    "s2 = '1 2 3'\n",
    "print(s1.isspace())\n",
    "print(s2.isspace())\n"
   ]
  },
  {
   "cell_type": "markdown",
   "metadata": {},
   "source": [
    "### String Methods\n",
    "- split() -- Returns the list of strings seperated by whitspace\n",
    "- replace() -- Returns the string replace by word/character\n",
    "- join() -- Concatination of two strings"
   ]
  },
  {
   "cell_type": "code",
   "execution_count": 12,
   "metadata": {},
   "outputs": [
    {
     "name": "stdout",
     "output_type": "stream",
     "text": [
      "['python', 'programming', 'Learn', 'Made', 'Easy']\n"
     ]
    }
   ],
   "source": [
    "s1 = \"python programming Learn Made Easy\"\n",
    "li = s1.split()\n",
    "print(li)"
   ]
  },
  {
   "cell_type": "code",
   "execution_count": 15,
   "metadata": {},
   "outputs": [
    {
     "name": "stdout",
     "output_type": "stream",
     "text": [
      "['python progr', 'mming Le', 'rn M', 'de E', 'sy']\n"
     ]
    }
   ],
   "source": [
    "s1 = \"python programming Learn Made Easy\"\n",
    "li = s1.split('a')\n",
    "print(li)"
   ]
  },
  {
   "cell_type": "code",
   "execution_count": 17,
   "metadata": {},
   "outputs": [
    {
     "name": "stdout",
     "output_type": "stream",
     "text": [
      "python-programming-Learn-Made-Easy\n"
     ]
    }
   ],
   "source": [
    "s1 = \"python programming Learn Made Easy\"\n",
    "print(s1.replace(' ','-'))"
   ]
  },
  {
   "cell_type": "code",
   "execution_count": 18,
   "metadata": {},
   "outputs": [
    {
     "name": "stdout",
     "output_type": "stream",
     "text": [
      "python progr@mming Le@rn M@de E@sy\n"
     ]
    }
   ],
   "source": [
    "s1 = \"python programming Learn Made Easy\"\n",
    "print(s1.replace('a','@'))"
   ]
  },
  {
   "cell_type": "code",
   "execution_count": 21,
   "metadata": {},
   "outputs": [
    {
     "name": "stdout",
     "output_type": "stream",
     "text": [
      "p y t h o n   p r o g r a m m i n g\n"
     ]
    }
   ],
   "source": [
    "s1 = \"python programming\"\n",
    "print(\" \".join(s1))"
   ]
  },
  {
   "cell_type": "markdown",
   "metadata": {},
   "source": [
    "### String Formatting\n",
    "- Classic version\n",
    "- Current version python"
   ]
  },
  {
   "cell_type": "code",
   "execution_count": 25,
   "metadata": {},
   "outputs": [
    {
     "name": "stdout",
     "output_type": "stream",
     "text": [
      "python programming \n"
     ]
    }
   ],
   "source": [
    "# classic version (c or c++)\n",
    "li = [\"python\",\"programming\"]\n",
    "print('%s %s ' % (li[0],li[1]))"
   ]
  },
  {
   "cell_type": "code",
   "execution_count": 26,
   "metadata": {},
   "outputs": [
    {
     "name": "stdout",
     "output_type": "stream",
     "text": [
      "1 2 3 4\n"
     ]
    }
   ],
   "source": [
    "li = [1,2,3,4]\n",
    "print('%d %d %d %d' % (li[0],li[1],li[2],li[3]))"
   ]
  },
  {
   "cell_type": "code",
   "execution_count": 27,
   "metadata": {},
   "outputs": [
    {
     "name": "stdout",
     "output_type": "stream",
     "text": [
      "List Item 0 : python \n",
      "List Item 1: programming\n"
     ]
    }
   ],
   "source": [
    "# .format\n",
    "li = [\"python\",\"programming\"]\n",
    "print(\"List Item 0 : {0} \\nList Item 1: {1}\".format(li[0],li[1]))"
   ]
  },
  {
   "cell_type": "code",
   "execution_count": 28,
   "metadata": {},
   "outputs": [
    {
     "name": "stdout",
     "output_type": "stream",
     "text": [
      "1 2 3 4\n"
     ]
    }
   ],
   "source": [
    "li = [1,2,3,4]\n",
    "print('{0} {1} {2} {3}'.format(li[0],li[1],li[2],li[3]))"
   ]
  },
  {
   "cell_type": "markdown",
   "metadata": {},
   "source": [
    "### Data Structures\n",
    "- List \n",
    "- Tuples\n",
    "- Dictionaries"
   ]
  },
  {
   "cell_type": "markdown",
   "metadata": {},
   "source": [
    "### Dictionaries\n",
    "- It works on concept of unique data\n",
    "- Key,value is the unique identifier a value\n",
    "- Each key is seperated from value colon(:)\n",
    "- Each key and value is seperated by comma(,)\n",
    "- Dictionaries are enclosed with curly brackets({})\n"
   ]
  },
  {
   "cell_type": "code",
   "execution_count": 30,
   "metadata": {},
   "outputs": [
    {
     "name": "stdout",
     "output_type": "stream",
     "text": [
      "{'Name': 'SANKAR', 'Email': 'bhavanisankar5758@gmail.com', 'Address': 'RAJUPALEM'}\n"
     ]
    }
   ],
   "source": [
    "d1 = {\"Name\":\"SANKAR\",\"Email\":\"bhavanisankar5758@gmail.com\",\"Address\":\"RAJUPALEM\"}\n",
    "print(d1)"
   ]
  },
  {
   "cell_type": "code",
   "execution_count": 31,
   "metadata": {},
   "outputs": [
    {
     "data": {
      "text/plain": [
       "'bhavanisankar5758@gmail.com'"
      ]
     },
     "execution_count": 31,
     "metadata": {},
     "output_type": "execute_result"
    }
   ],
   "source": [
    "d1[\"Email\"] # Access the specific key value"
   ]
  },
  {
   "cell_type": "code",
   "execution_count": 33,
   "metadata": {},
   "outputs": [],
   "source": [
    "d1[\"Email\"] = \"121822502018@gitam.in\" # update the value using key"
   ]
  },
  {
   "cell_type": "code",
   "execution_count": 36,
   "metadata": {},
   "outputs": [
    {
     "data": {
      "text/plain": [
       "dict_keys(['Name', 'Email', 'Address'])"
      ]
     },
     "execution_count": 36,
     "metadata": {},
     "output_type": "execute_result"
    }
   ],
   "source": [
    "d1.keys() # Allthe keys of dict object"
   ]
  },
  {
   "cell_type": "code",
   "execution_count": 35,
   "metadata": {},
   "outputs": [
    {
     "data": {
      "text/plain": [
       "dict_values(['SANKAR', '121822502018@gitam.in', 'RAJUPALEM'])"
      ]
     },
     "execution_count": 35,
     "metadata": {},
     "output_type": "execute_result"
    }
   ],
   "source": [
    "d1.values() # All the vale of value obj"
   ]
  },
  {
   "cell_type": "code",
   "execution_count": 38,
   "metadata": {},
   "outputs": [],
   "source": [
    "del d1[\"Email\"]"
   ]
  },
  {
   "cell_type": "code",
   "execution_count": 37,
   "metadata": {},
   "outputs": [
    {
     "data": {
      "text/plain": [
       "{'Name': 'SANKAR', 'Email': '121822502018@gitam.in', 'Address': 'RAJUPALEM'}"
      ]
     },
     "execution_count": 37,
     "metadata": {},
     "output_type": "execute_result"
    }
   ],
   "source": [
    "d1"
   ]
  },
  {
   "cell_type": "code",
   "execution_count": null,
   "metadata": {},
   "outputs": [],
   "source": [
    "d1"
   ]
  },
  {
   "cell_type": "markdown",
   "metadata": {},
   "source": [
    "### contact Application\n",
    "- Add contact details\n",
    "- Search the contact details\n",
    "- List all the contacts(merge/Import)\n",
    "  - Name1:value\n",
    "  - Name2:value\n",
    "- Modify or update the contact details\n",
    "- Delete the contact details"
   ]
  },
  {
   "cell_type": "code",
   "execution_count": 43,
   "metadata": {},
   "outputs": [
    {
     "name": "stdout",
     "output_type": "stream",
     "text": [
      "contact details are added successfully\n",
      "contact details are added successfully\n",
      "contact details are added successfully\n"
     ]
    }
   ],
   "source": [
    "contact = {} # Empty Dict obj\n",
    "# Let's create a function to add contact details\n",
    "def addContact(name,phone):\n",
    "    if name not in contact: # cond to check is exist or not\n",
    "        contact[name] = phone\n",
    "        print('contact details are added successfully')\n",
    "    else:\n",
    "        print('Name is already exists')\n",
    "    return\n",
    "addContact('Sankar','9000700878')\n",
    "addContact('surendra','9885508424')\n",
    "addContact('Narendra','9885166364')"
   ]
  },
  {
   "cell_type": "code",
   "execution_count": 44,
   "metadata": {},
   "outputs": [
    {
     "data": {
      "text/plain": [
       "{'Sankar': '9000700878', 'surendra': '9885508424', 'Narendra': '9885166364'}"
      ]
     },
     "execution_count": 44,
     "metadata": {},
     "output_type": "execute_result"
    }
   ],
   "source": [
    "contact"
   ]
  },
  {
   "cell_type": "code",
   "execution_count": 47,
   "metadata": {},
   "outputs": [
    {
     "name": "stdout",
     "output_type": "stream",
     "text": [
      "Sankar  :  9000700878\n",
      "Gitam Does not present\n",
      "Narendra  :  9885166364\n"
     ]
    }
   ],
   "source": [
    "def searchContact(name):\n",
    "    if name in contact:\n",
    "        print(name, \" : \",contact[name])\n",
    "    else:\n",
    "        print('{0} Does not present'.format(name))\n",
    "    return\n",
    "searchContact('Sankar')\n",
    "searchContact('Gitam')\n",
    "searchContact('Narendra')\n"
   ]
  },
  {
   "cell_type": "code",
   "execution_count": 58,
   "metadata": {},
   "outputs": [
    {
     "name": "stdout",
     "output_type": "stream",
     "text": [
      "3 Contact are added\n"
     ]
    }
   ],
   "source": [
    "# Import new contact details\n",
    "# Merge the previous details with new details\n",
    "def importContact(newContact):\n",
    "    contact.update(newContact)\n",
    "    print(len(newContact.keys()),'Contact are added')\n",
    "    return\n",
    "newContact = {'Gitam':123456767,'Anil':9885513133,'python':9676522793}\n",
    "importContact(newContact)\n"
   ]
  },
  {
   "cell_type": "code",
   "execution_count": 59,
   "metadata": {},
   "outputs": [
    {
     "data": {
      "text/plain": [
       "{'Sankar': '9000700878',\n",
       " 'surendra': '9885508424',\n",
       " 'Narendra': '9885166364',\n",
       " 'Gitam': 123456767,\n",
       " 'Anil': 9885513133,\n",
       " 'python': 9676522793}"
      ]
     },
     "execution_count": 59,
     "metadata": {},
     "output_type": "execute_result"
    }
   ],
   "source": [
    "contact"
   ]
  },
  {
   "cell_type": "code",
   "execution_count": 60,
   "metadata": {},
   "outputs": [
    {
     "name": "stdout",
     "output_type": "stream",
     "text": [
      "Gitam Updated successfully\n",
      "Ravi Not exist\n"
     ]
    }
   ],
   "source": [
    "def modifyContact(name,phone):\n",
    "    if name in contact:\n",
    "        contact[name] = phone\n",
    "        print(name,'Updated successfully')\n",
    "    else:\n",
    "        print(name,'Not exist')\n",
    "    return\n",
    "modifyContact('Gitam',9885175726)\n",
    "modifyContact('Ravi',6500218756)"
   ]
  },
  {
   "cell_type": "code",
   "execution_count": 63,
   "metadata": {},
   "outputs": [
    {
     "name": "stdout",
     "output_type": "stream",
     "text": [
      "Anil Deleted successfully\n"
     ]
    }
   ],
   "source": [
    "def deleteContact(name):\n",
    "    if name in contact:\n",
    "        del contact[name]\n",
    "        print(name,'Deleted successfully')\n",
    "    else:\n",
    "        print(name,'Not Present')\n",
    "    return\n",
    "deleteContact('Anil')"
   ]
  },
  {
   "cell_type": "code",
   "execution_count": 64,
   "metadata": {},
   "outputs": [
    {
     "data": {
      "text/plain": [
       "{'Sankar': '9000700878',\n",
       " 'surendra': '9885508424',\n",
       " 'Narendra': '9885166364',\n",
       " 'Gitam': 9885175726,\n",
       " 'python': 9676522793}"
      ]
     },
     "execution_count": 64,
     "metadata": {},
     "output_type": "execute_result"
    }
   ],
   "source": [
    "contact"
   ]
  },
  {
   "cell_type": "markdown",
   "metadata": {},
   "source": [
    "### Tuples\n",
    "- Tuples enclosed with parenthesis()\n",
    "\n",
    "### Differences between Tuples and List\n",
    "    - List are mutable -- can be changed / modify\n",
    "      - Read and write the data\n",
    "    - Tuples are immutable -- can't be changed / modify\n",
    "      -Read data only"
   ]
  },
  {
   "cell_type": "code",
   "execution_count": 66,
   "metadata": {},
   "outputs": [
    {
     "name": "stdout",
     "output_type": "stream",
     "text": [
      "(1, 2, 3, 4, 5)\n"
     ]
    }
   ],
   "source": [
    "t1 = (1,2,3,4,5)\n",
    "print(t1)"
   ]
  },
  {
   "cell_type": "markdown",
   "metadata": {},
   "source": [
    "### Standard Libraries\n",
    "- Regular Expression\n",
    "  - To Validate the Indian Mobile\n",
    "  - To Validate the EmailID\n",
    "  - To Validate the username\n",
    "  - To validate the password\n",
    "- Understanding the Regular Expressions\n",
    "  - [0-9] -- Any digit matching\n",
    "  - [a-z] -- Any character matching"
   ]
  },
  {
   "cell_type": "code",
   "execution_count": 67,
   "metadata": {},
   "outputs": [
    {
     "name": "stdout",
     "output_type": "stream",
     "text": [
      "True\n",
      "False\n"
     ]
    }
   ],
   "source": [
    "# Function to test the two digit\n",
    "# True -- Input two digit number\n",
    "# False -- Input not a two digit number\n",
    "import re\n",
    "def twoDigitMatching(n):\n",
    "    pattern = '^[0-9]{2}$'\n",
    "    n = str(n)    # str() converts input into str format\n",
    "    if re.match(pattern,n):\n",
    "        return True\n",
    "    return False\n",
    "print(twoDigitMatching(12))  # True\n",
    "print(twoDigitMatching(123)) # False\n"
   ]
  },
  {
   "cell_type": "code",
   "execution_count": 71,
   "metadata": {},
   "outputs": [
    {
     "name": "stdout",
     "output_type": "stream",
     "text": [
      "True\n",
      "True\n",
      "False\n"
     ]
    }
   ],
   "source": [
    "# REgular Expression for Username\n",
    "# Username -- should contains Lower and upper case characters\n",
    "# Length  -- Min 5 Max 12\n",
    "def validateUsername(s):\n",
    "    pattern = '^[a-zA-Z]{4,11}$'\n",
    "    if re.match(pattern,s):\n",
    "        return True\n",
    "    return False\n",
    "print(validateUsername('sankarreddy'))\n",
    "print(validateUsername('sankar'))\n",
    "print(validateUsername('Bhavanisankarreddy'))"
   ]
  },
  {
   "cell_type": "markdown",
   "metadata": {},
   "source": [
    "### Regular Expression \n",
    "- Regular Expression for RollNumber\n",
    "   - Example : 121822502018 # valid\n",
    "   - Example : 131925454683 # Not valid\n",
    "- Regular Expression for password\n",
    "   - Parameters - Len min"
   ]
  },
  {
   "cell_type": "markdown",
   "metadata": {},
   "source": [
    "### Regular Expression for indian mobile\n",
    "- 10 Digit Number\n",
    "  - First number is starts from[6-9]\n",
    "  - Rest of 9 numbers is between [0-9]\n",
    "     - example : 9000700878 # True\n",
    "     - example : 6515596046 # False\n",
    "- 11 Digit Number\n",
    "     - First number can be 0\n",
    "     - Second number can be [6-9]\n",
    "     - Rest of 9 numbers is between [0-9]\n",
    "         - Example :09000700878\n",
    "         - Example :99000700878\n",
    "- 13 Digit number\n",
    "   - First number can be +\n",
    "   - Second number can be 9\n",
    "   - Third number can be 1\n",
    "    -fourth number [6-9]\n",
    "   "
   ]
  },
  {
   "cell_type": "code",
   "execution_count": null,
   "metadata": {},
   "outputs": [],
   "source": [
    "# Rule 1 :  ^[6-9][0-9]{9}$\n",
    "# Rule 2 :  ^[0][6-9][0-9]{9}$\n",
    "# Rule 3 :  ^[+][9][1][6-9][0-9]{9}$"
   ]
  },
  {
   "cell_type": "code",
   "execution_count": 1,
   "metadata": {},
   "outputs": [
    {
     "data": {
      "text/plain": [
       "True"
      ]
     },
     "execution_count": 1,
     "metadata": {},
     "output_type": "execute_result"
    }
   ],
   "source": [
    "import re\n",
    "def validateIndiaPhone(n):\n",
    "    pattern = '^[6-9][0-9]{9}$|^[0][6-9][0-9]{9}$|^[+][9][1][6-9][0-9]{9}$'\n",
    "    n = str(n)\n",
    "    if re.match(pattern,n):\n",
    "        return True\n",
    "    return False\n",
    "validateIndiaPhone('+919000700878') "
   ]
  },
  {
   "cell_type": "markdown",
   "metadata": {},
   "source": [
    "### Validate the EmailID\n",
    "- Example : Username@domainName.extension\n",
    "- Example : dsps@gmail.com\n",
    "- Username : \n",
    "   - Len of string will be [6-15]\n",
    "   - No spl characters except underscore(_)\n",
    "   - Username should not begins with underscore(_)\n",
    "   - All characters set digits,Lower case,Upper case\n",
    "      - Example : Sankar_5765\n",
    "- DomainName\n",
    "   - Len of string will be [3-18]\n",
    "   - No spl characters\n",
    "   - Characters set will be Digits,Lower case,Upper case\n",
    "          - Example : gmail,hotmail,ymail,rediff and etc..\n",
    "- Extension\n",
    "  - Len of string will be [2-4]\n",
    "  - No spl characters allowed\n",
    "  -  Character set will be Lower case characters\n",
    "     - Example : com in au uk\n",
    "  \n",
    "\n"
   ]
  },
  {
   "cell_type": "code",
   "execution_count": null,
   "metadata": {},
   "outputs": [],
   "source": [
    "# User name RE : [0-9a-zA-Z][0-9a-zA-Z_.]{5,14}\n",
    "# Domain Name Re : [a-z0-9]{3,18}\n",
    "# Extension RE : [a-z]{2,4}"
   ]
  },
  {
   "cell_type": "code",
   "execution_count": 3,
   "metadata": {},
   "outputs": [
    {
     "data": {
      "text/plain": [
       "True"
      ]
     },
     "execution_count": 3,
     "metadata": {},
     "output_type": "execute_result"
    }
   ],
   "source": [
    "def validateEmail(email):\n",
    "    pattern = '^[0-9a-zA-Z][0-9a-zA-z_.]{5,14}[@][a-z0-9]{3,18}[.][a-z]{2,4}$'\n",
    "    if re.match(pattern,email):\n",
    "        return True\n",
    "    return False \n",
    "validateEmail('bhavanisankar5758@gmailmail.com')"
   ]
  },
  {
   "cell_type": "markdown",
   "metadata": {},
   "source": [
    "### Package Graphics\n",
    "- Lib - turtle"
   ]
  },
  {
   "cell_type": "markdown",
   "metadata": {},
   "source": [
    "### Package,Module and Sub Package\n",
    "### Package \n",
    "   - A collection of modules(single python file .py)\n",
    "### Module\n",
    "   - A single python File contains group of functions\n",
    "   \n",
    "   - package - > sub package -> modules - > Functions - > Statements\n",
    "   \n",
    "   - import keyword used to import the external Lib from the python program"
   ]
  },
  {
   "cell_type": "code",
   "execution_count": 4,
   "metadata": {},
   "outputs": [
    {
     "data": {
      "text/plain": [
       "123"
      ]
     },
     "execution_count": 4,
     "metadata": {},
     "output_type": "execute_result"
    }
   ],
   "source": [
    "import math    # Import all the function into python program\n",
    "math.floor(123.456)"
   ]
  },
  {
   "cell_type": "code",
   "execution_count": 5,
   "metadata": {},
   "outputs": [
    {
     "data": {
      "text/plain": [
       "124"
      ]
     },
     "execution_count": 5,
     "metadata": {},
     "output_type": "execute_result"
    }
   ],
   "source": [
    "math.ceil(123.456)"
   ]
  },
  {
   "cell_type": "code",
   "execution_count": 6,
   "metadata": {},
   "outputs": [
    {
     "data": {
      "text/plain": [
       "3628800"
      ]
     },
     "execution_count": 6,
     "metadata": {},
     "output_type": "execute_result"
    }
   ],
   "source": [
    "from math import factorial as fact  # will import only specific function\n",
    "# as fact alias name\n",
    "fact(10)"
   ]
  },
  {
   "cell_type": "code",
   "execution_count": 7,
   "metadata": {},
   "outputs": [
    {
     "data": {
      "text/plain": [
       "5"
      ]
     },
     "execution_count": 7,
     "metadata": {},
     "output_type": "execute_result"
    }
   ],
   "source": [
    "from math import gcd as gcd\n",
    "gcd(10,15)"
   ]
  },
  {
   "cell_type": "code",
   "execution_count": 11,
   "metadata": {},
   "outputs": [
    {
     "name": "stdout",
     "output_type": "stream",
     "text": [
      "48 95 31 66 18 68 25 75 57 42 "
     ]
    }
   ],
   "source": [
    "# Import random package\n",
    "import random \n",
    "#  Function to generate the N Numbers in given range\n",
    "def generateRandNum(n,lb,ub):\n",
    "    for i in range(0,n):\n",
    "        print(random.randint(lb,ub),end=' ')\n",
    "    return\n",
    "generateRandNum(10,0,100)"
   ]
  },
  {
   "cell_type": "code",
   "execution_count": null,
   "metadata": {},
   "outputs": [],
   "source": [
    "# Create a simple game\n",
    "# Try to generate 20 numbers\n",
    "# Input : Number\n",
    "# Present : Congrats!!!\n",
    "# Not present : Try again"
   ]
  },
  {
   "cell_type": "code",
   "execution_count": 12,
   "metadata": {},
   "outputs": [
    {
     "data": {
      "text/plain": [
       "[142,\n",
       " 860,\n",
       " 588,\n",
       " 960,\n",
       " 529,\n",
       " 615,\n",
       " 948,\n",
       " 255,\n",
       " 384,\n",
       " 341,\n",
       " 926,\n",
       " 279,\n",
       " 737,\n",
       " 394,\n",
       " 344,\n",
       " 528,\n",
       " 201,\n",
       " 432,\n",
       " 587,\n",
       " 379]"
      ]
     },
     "execution_count": 12,
     "metadata": {},
     "output_type": "execute_result"
    }
   ],
   "source": [
    "from random import randint as rdint\n",
    "def generateNumber(n,lb,ub):\n",
    "    li = []\n",
    "    for i in range (0,n):\n",
    "        li.append(rdint(lb,ub))\n",
    "    return li\n",
    "generateNumber(20,100,999)\n",
    "        \n",
    "    "
   ]
  },
  {
   "cell_type": "code",
   "execution_count": 3,
   "metadata": {},
   "outputs": [
    {
     "name": "stdout",
     "output_type": "stream",
     "text": [
      "Try again!!!\n"
     ]
    }
   ],
   "source": [
    "# Create a simple game\n",
    "# Try to generate 20 numbers\n",
    "# Input : Number\n",
    "# Present : Congrats!!!\n",
    "# Not present : Try again\n",
    "from random import randint as rdint\n",
    "def generateNumber(n,lb,ub):\n",
    "    li = []\n",
    "    for i in range (0,n):\n",
    "        li.append(rdint(lb,ub))\n",
    "    return li\n",
    "def check(n):\n",
    "    li = generateNumber(20,100,999)\n",
    "    if n in li:\n",
    "        print('Congrats!!!')\n",
    "    else:\n",
    "        print('Try again!!!')\n",
    "    return\n",
    "check(56)"
   ]
  },
  {
   "cell_type": "code",
   "execution_count": null,
   "metadata": {},
   "outputs": [],
   "source": []
  },
  {
   "cell_type": "code",
   "execution_count": null,
   "metadata": {},
   "outputs": [],
   "source": []
  },
  {
   "cell_type": "code",
   "execution_count": null,
   "metadata": {},
   "outputs": [],
   "source": []
  },
  {
   "cell_type": "code",
   "execution_count": null,
   "metadata": {},
   "outputs": [],
   "source": []
  },
  {
   "cell_type": "code",
   "execution_count": null,
   "metadata": {},
   "outputs": [],
   "source": []
  },
  {
   "cell_type": "code",
   "execution_count": null,
   "metadata": {},
   "outputs": [],
   "source": []
  },
  {
   "cell_type": "code",
   "execution_count": null,
   "metadata": {},
   "outputs": [],
   "source": []
  },
  {
   "cell_type": "code",
   "execution_count": null,
   "metadata": {},
   "outputs": [],
   "source": []
  },
  {
   "cell_type": "code",
   "execution_count": null,
   "metadata": {},
   "outputs": [],
   "source": []
  },
  {
   "cell_type": "code",
   "execution_count": null,
   "metadata": {},
   "outputs": [],
   "source": []
  }
 ],
 "metadata": {
  "kernelspec": {
   "display_name": "Python 3",
   "language": "python",
   "name": "python3"
  },
  "language_info": {
   "codemirror_mode": {
    "name": "ipython",
    "version": 3
   },
   "file_extension": ".py",
   "mimetype": "text/x-python",
   "name": "python",
   "nbconvert_exporter": "python",
   "pygments_lexer": "ipython3",
   "version": "3.7.3"
  }
 },
 "nbformat": 4,
 "nbformat_minor": 2
}
